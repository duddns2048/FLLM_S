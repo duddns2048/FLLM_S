{
 "cells": [
  {
   "cell_type": "code",
   "execution_count": 7,
   "metadata": {},
   "outputs": [],
   "source": [
    "import csv\n",
    "csv_path = './results/Task01_BrainTumour_tmp1/Task01_BrainTumour_tmp1_training_results.csv'\n",
    "epoch_data_list=[]\n",
    "with open(csv_path, 'r') as csv_file:\n",
    "    csv_reader = csv.reader(csv_file)\n",
    "    \n",
    "    # 첫 번째 행 (헤더) 건너뛰기\n",
    "    next(csv_reader)\n",
    "    \n",
    "    # 각 행을 리스트로 처리하고 data_list에 추가\n",
    "    for row in csv_reader:\n",
    "        epoch_data_list.append(row[1:])"
   ]
  },
  {
   "cell_type": "code",
   "execution_count": 13,
   "metadata": {},
   "outputs": [],
   "source": [
    "import matplotlib.pyplot as plt\n",
    "import os\n",
    "\n",
    "def plot_csv(df, save_path, exp_name, plot):\n",
    "    plt.figure(figsize=(10, 5))\n",
    "    plt.plot(df['Epoch'], df[f'Train {plot}'], label=f'Train {plot}')\n",
    "    plt.plot(df['Epoch'], df[f'Val {plot}'], label=f'Val {plot}')\n",
    "    plt.xlabel('Epoch')\n",
    "    plt.ylabel(f'{plot}')\n",
    "    plt.title(f'{exp_name}_{plot}')\n",
    "    plt.legend()\n",
    "    plt.grid(True)\n",
    "    dice_plot_path = os.path.join(save_path, f'{exp_name}_{plot}_curve.png')\n",
    "    plt.savefig(dice_plot_path)\n",
    "    # logger.info(f\"Dice curve saved to {dice_plot_path}\")\n",
    "    plt.close()\n",
    "\n",
    "def load_training_results(csv_path):\n",
    "    epoch_data_list=[]\n",
    "    with open(csv_path, 'r') as csv_file:\n",
    "        csv_reader = csv.reader(csv_file)\n",
    "        \n",
    "        # 첫 번째 행 (헤더) 건너뛰기\n",
    "        next(csv_reader)\n",
    "        \n",
    "        # 각 행을 리스트로 처리하고 data_list에 추가\n",
    "        for row in csv_reader:\n",
    "            epoch_data_list.append(row)\n",
    "    return epoch_data_list"
   ]
  },
  {
   "cell_type": "code",
   "execution_count": 14,
   "metadata": {},
   "outputs": [],
   "source": [
    "import pandas as pd\n",
    "start_epoch =15\n",
    "csv_path = './results/Task01_BrainTumour_tmp1/Task01_BrainTumour_tmp1_training_results.csv'\n",
    "epoch_data = load_training_results(csv_path)\n",
    "epoch_data = epoch_data[:start_epoch]\n",
    "df = pd.DataFrame(epoch_data, columns=['Epoch', 'Train Loss', 'Val Loss', 'Train Dice', 'Val Dice'])"
   ]
  },
  {
   "cell_type": "code",
   "execution_count": 15,
   "metadata": {},
   "outputs": [],
   "source": [
    "save_path = './results/Task01_BrainTumour_tmp1'\n",
    "exp_name= 'Task01_bRAINtUMOUR_TMP1'\n",
    "plot_csv(df, save_path, exp_name, 'Dice')"
   ]
  },
  {
   "cell_type": "code",
   "execution_count": 1,
   "metadata": {},
   "outputs": [
    {
     "name": "stdout",
     "output_type": "stream",
     "text": [
      "논리적 프로세서 수: 8\n",
      "물리적 코어 수: 4\n"
     ]
    }
   ],
   "source": [
    "import os\n",
    "import psutil\n",
    "\n",
    "# 전체 논리 프로세서 수 (하이퍼스레딩 포함)\n",
    "logical_processors = os.cpu_count()\n",
    "\n",
    "# 물리적 코어 수\n",
    "physical_cores = psutil.cpu_count(logical=False)\n",
    "\n",
    "print(f\"논리적 프로세서 수: {logical_processors}\")\n",
    "print(f\"물리적 코어 수: {physical_cores}\")"
   ]
  },
  {
   "cell_type": "code",
   "execution_count": 2,
   "metadata": {},
   "outputs": [
    {
     "name": "stdout",
     "output_type": "stream",
     "text": [
      "True\n",
      "12.1\n",
      "NVIDIA TITAN Xp\n",
      "2.4.1+cu121\n"
     ]
    }
   ],
   "source": [
    "import torch\n",
    "print(torch.cuda.is_available())\n",
    "print(torch.version.cuda)\n",
    "print(torch.cuda.get_device_name(0))\n",
    "print(torch.__version__)"
   ]
  }
 ],
 "metadata": {
  "kernelspec": {
   "display_name": "FLLM_S",
   "language": "python",
   "name": "python3"
  },
  "language_info": {
   "codemirror_mode": {
    "name": "ipython",
    "version": 3
   },
   "file_extension": ".py",
   "mimetype": "text/x-python",
   "name": "python",
   "nbconvert_exporter": "python",
   "pygments_lexer": "ipython3",
   "version": "3.8.20"
  },
  "orig_nbformat": 4
 },
 "nbformat": 4,
 "nbformat_minor": 2
}
